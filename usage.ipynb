{
 "cells": [
  {
   "cell_type": "markdown",
   "metadata": {},
   "source": [
    "# Movies Quiz Application"
   ]
  },
  {
   "cell_type": "code",
   "execution_count": 2,
   "metadata": {},
   "outputs": [],
   "source": [
    "import pandas as pd\n",
    "import numpy as np\n",
    "import matplotlib.pyplot as plt"
   ]
  },
  {
   "cell_type": "code",
   "execution_count": 3,
   "metadata": {},
   "outputs": [],
   "source": [
    "# Import the necessary classes from data.py and quiz.py\n",
    "from src.data import MoviesData\n",
    "from src.quiz import Quiz"
   ]
  },
  {
   "cell_type": "markdown",
   "metadata": {},
   "source": [
    "### Data import"
   ]
  },
  {
   "cell_type": "code",
   "execution_count": 4,
   "metadata": {},
   "outputs": [],
   "source": [
    "# Path to the CSV file containing the movie dataset\n",
    "file_path = 'data/movies_dataset.csv'\n",
    "\n",
    "# Load the movies dataset into a DataFrame\n",
    "movies_data = MoviesData(path='data')\n",
    "movies_df = movies_data.import_data(file_path)\n"
   ]
  },
  {
   "cell_type": "markdown",
   "metadata": {},
   "source": [
    "### Create an instance of the Quiz class using the loaded movie data"
   ]
  },
  {
   "cell_type": "code",
   "execution_count": 5,
   "metadata": {},
   "outputs": [],
   "source": [
    "quiz = Quiz(movies_df)"
   ]
  },
  {
   "cell_type": "code",
   "execution_count": null,
   "metadata": {},
   "outputs": [],
   "source": [
    "while True:\n",
    "    # Initialize the player's total score and the number of correct answers\n",
    "    score = 0\n",
    "    total_correct_answers = 0\n",
    "\n",
    "    # Define the scoring system for each difficulty level\n",
    "    score_by_difficulty = {\n",
    "        'easy': 1,\n",
    "        'medium': 2,\n",
    "        'hard': 3\n",
    "    }\n",
    "\n",
    "    # Counting the number of correct answers by difficulty level\n",
    "    correct_answers_by_difficulty = {\n",
    "        'easy': 0,\n",
    "        'medium': 0,\n",
    "        'hard': 0\n",
    "    }\n",
    "\n",
    "    # Generate and ask 10 quiz questions \n",
    "    for question_number in range(1,11):\n",
    "        # Randomly select a difficulty level for the current question\n",
    "        level_of_difficulty = np.random.choice(['easy', 'medium', 'hard'])\n",
    "        \n",
    "        # Generate a question, options, and the correct answer based on the selected difficulty level\n",
    "        question, options, correct_answer = quiz.generate_question(difficulty=level_of_difficulty)\n",
    "        \n",
    "        # Print the question and its multiple-choice options\n",
    "        print(f\"Question {question_number}: {question}\")\n",
    "        for i, option in enumerate(options, 1):\n",
    "            print(f\"{i}. {option}\")\n",
    "        \n",
    "        # Get the player's answer and validate their input\n",
    "        while True:\n",
    "            try:\n",
    "                user_input = int(input(\"Enter the number of your answer: \"))\n",
    "                if options[user_input - 1] == correct_answer:\n",
    "                    print(\"Correct!\")\n",
    "                    # Increment the score and update correct answer counts\n",
    "                    score += score_by_difficulty[level_of_difficulty]\n",
    "                    total_correct_answers += 1\n",
    "                    correct_answers_by_difficulty[level_of_difficulty] += 1\n",
    "                else:\n",
    "                    print(f\"Wrong! The correct answer was {correct_answer}.\")\n",
    "                break\n",
    "            except (IndexError, ValueError):\n",
    "                # Handle invalid input (non-integer or out-of-range)\n",
    "                print(\"Invalid input. Please enter a number corresponding to the options.\")\n",
    "\n",
    "    # Calculate the maximum possible score for the quiz\n",
    "    max_score = quiz.max_score(num_questions=10)\n",
    "    \n",
    "    # Display the player's final score and performance summary\n",
    "    print(f\"Your final score is {score} out of {max_score}.\")\n",
    "    print(f\"You answered {total_correct_answers} out of 10 questions correctly.\")\n",
    "\n",
    "    # Visualize the number of correct answers by difficulty level using a bar chart\n",
    "    difficulty_levels = ['Easy', 'Medium', 'Hard']\n",
    "    correct_counts = [correct_answers_by_difficulty['easy'], \n",
    "                    correct_answers_by_difficulty['medium'], \n",
    "                    correct_answers_by_difficulty['hard']]\n",
    "\n",
    "    plt.figure(figsize=(8, 6))\n",
    "    plt.bar(difficulty_levels, correct_counts, color=['green', 'orange', 'red'])\n",
    "    plt.ylim(0, 10)\n",
    "    plt.yticks(range(0, 11))\n",
    "    plt.xlabel('Difficulty Level')\n",
    "    plt.ylabel('Number of Correct Answers')\n",
    "    plt.title('Correct Answers by Difficulty Level')\n",
    "\n",
    "    plt.show()\n",
    "\n",
    "    # Prompt the player to play another quiz round or exit\n",
    "    play_again = input(\"Do you want to play again? (yes/no): \").strip().lower()\n",
    "    if play_again != 'yes':\n",
    "        print(\"Thank you for playing!\")\n",
    "        break"
   ]
  }
 ],
 "metadata": {
  "kernelspec": {
   "display_name": "progettodse",
   "language": "python",
   "name": "python3"
  },
  "language_info": {
   "codemirror_mode": {
    "name": "ipython",
    "version": 3
   },
   "file_extension": ".py",
   "mimetype": "text/x-python",
   "name": "python",
   "nbconvert_exporter": "python",
   "pygments_lexer": "ipython3",
   "version": "3.12.0"
  }
 },
 "nbformat": 4,
 "nbformat_minor": 2
}
