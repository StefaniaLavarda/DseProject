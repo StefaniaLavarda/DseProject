{
 "cells": [
  {
   "cell_type": "markdown",
   "metadata": {},
   "source": [
    "# Movies Quiz Application"
   ]
  },
  {
   "cell_type": "code",
   "execution_count": 1,
   "metadata": {},
   "outputs": [],
   "source": [
    "import pandas as pd\n",
    "import numpy as np"
   ]
  },
  {
   "cell_type": "code",
   "execution_count": 2,
   "metadata": {},
   "outputs": [],
   "source": [
    "from src.data import MoviesData\n",
    "from src.quiz import Quiz"
   ]
  },
  {
   "cell_type": "markdown",
   "metadata": {},
   "source": [
    "### Data import"
   ]
  },
  {
   "cell_type": "code",
   "execution_count": 3,
   "metadata": {},
   "outputs": [],
   "source": [
    "file_path = 'data/movies_dataset.csv'\n",
    "movies_data = MoviesData(path='data')\n",
    "movies_df = movies_data.import_data(file_path)\n"
   ]
  },
  {
   "cell_type": "markdown",
   "metadata": {},
   "source": [
    "### Creating an instance of the Quiz Class with movies data"
   ]
  },
  {
   "cell_type": "code",
   "execution_count": 4,
   "metadata": {},
   "outputs": [],
   "source": [
    "quiz = Quiz(movies_df)"
   ]
  },
  {
   "cell_type": "markdown",
   "metadata": {},
   "source": [
    "### Initialize the score for the quiz"
   ]
  },
  {
   "cell_type": "code",
   "execution_count": 5,
   "metadata": {},
   "outputs": [],
   "source": [
    "score = 0\n",
    "total_correct_answers = 0"
   ]
  },
  {
   "cell_type": "markdown",
   "metadata": {},
   "source": [
    "### Scoring for each difficulty level"
   ]
  },
  {
   "cell_type": "code",
   "execution_count": 6,
   "metadata": {},
   "outputs": [],
   "source": [
    "score_by_difficulty = {\n",
    "    'easy': 1,\n",
    "    'medium': 2,\n",
    "    'hard': 3\n",
    "}"
   ]
  },
  {
   "cell_type": "markdown",
   "metadata": {},
   "source": [
    "### Counting correct answers by difficulty level"
   ]
  },
  {
   "cell_type": "code",
   "execution_count": 7,
   "metadata": {},
   "outputs": [],
   "source": [
    "correct_answers_by_difficulty = {\n",
    "    'easy': 0,\n",
    "    'medium': 0,\n",
    "    'hard': 0\n",
    "}"
   ]
  },
  {
   "cell_type": "markdown",
   "metadata": {},
   "source": [
    "### Generate 10 quiz questions to the user"
   ]
  },
  {
   "cell_type": "code",
   "execution_count": null,
   "metadata": {},
   "outputs": [],
   "source": [
    "for question_number in range(1, 11):\n",
    "    # Randomly select a difficulty level\n",
    "    level_of_difficulty = np.random.choice(['easy', 'medium', 'hard'])\n",
    "    \n",
    "    # Generate a random question along with its options and correct answer\n",
    "    question, options, correct_answer = quiz.generate_question(difficulty=level_of_difficulty)\n",
    "    \n",
    "    # Print the question and the multiple-choice options\n",
    "    print(f\"Question {question_number}: {question}\")\n",
    "    for i, option in enumerate(options, 1):\n",
    "        print(f\"{i}. {option}\")\n",
    "\n",
    "    # Get user input and validate it\n",
    "    # This while loop allows the user to retry until they give a valid answer\n",
    "    try:\n",
    "        user_input = int(input(\"Enter the number of your answer: \"))\n",
    "        if options[user_input - 1] == correct_answer:\n",
    "            print(\"Correct!\")\n",
    "            # Increment the score for a correct answer\n",
    "            score += score_by_difficulty[level_of_difficulty]\n",
    "            total_correct_answers += 1  \n",
    "            correct_answers_by_difficulty[level_of_difficulty] += 1\n",
    "        else:\n",
    "            print(f\"Wrong! The correct answer was {correct_answer}.\")  \n",
    "        break\n",
    "    except (IndexError, ValueError):\n",
    "        print(\"Invalid input. Please enter a number corresponding to the options.\")"
   ]
  },
  {
   "cell_type": "markdown",
   "metadata": {},
   "source": [
    "### Display the final score after the quiz ends"
   ]
  },
  {
   "cell_type": "code",
   "execution_count": null,
   "metadata": {},
   "outputs": [],
   "source": [
    "max_score = quiz.max_score(num_questions=10)\n",
    "print(f\"Your final score is {score} out of {max_score}.\")\n",
    "print(f\"You answered {total_correct_answers} out of 10 questions correctly.\")"
   ]
  },
  {
   "cell_type": "markdown",
   "metadata": {},
   "source": [
    "# Visualization"
   ]
  },
  {
   "cell_type": "code",
   "execution_count": 13,
   "metadata": {},
   "outputs": [],
   "source": [
    "import matplotlib.pyplot as plt"
   ]
  },
  {
   "cell_type": "markdown",
   "metadata": {},
   "source": [
    "### Data for the bar chart"
   ]
  },
  {
   "cell_type": "code",
   "execution_count": 14,
   "metadata": {},
   "outputs": [],
   "source": [
    "difficulty_levels = ['Easy', 'Medium', 'Hard']\n",
    "correct_counts = [correct_answers_by_difficulty['easy'], \n",
    "                  correct_answers_by_difficulty['medium'], \n",
    "                  correct_answers_by_difficulty['hard']]"
   ]
  },
  {
   "cell_type": "markdown",
   "metadata": {},
   "source": [
    "### Plotting the bar chart"
   ]
  },
  {
   "cell_type": "code",
   "execution_count": null,
   "metadata": {},
   "outputs": [],
   "source": [
    "plt.figure(figsize=(8, 6))\n",
    "plt.bar(difficulty_levels, correct_counts, color=['green', 'orange', 'red'])\n",
    "plt.xlabel('Difficulty Level')\n",
    "plt.ylabel('Number of Correct Answers')\n",
    "plt.title('Correct Answers by Difficulty Level')\n",
    "\n",
    "plt.show()"
   ]
  }
 ],
 "metadata": {
  "kernelspec": {
   "display_name": "progettodse",
   "language": "python",
   "name": "python3"
  },
  "language_info": {
   "codemirror_mode": {
    "name": "ipython",
    "version": 3
   },
   "file_extension": ".py",
   "mimetype": "text/x-python",
   "name": "python",
   "nbconvert_exporter": "python",
   "pygments_lexer": "ipython3",
   "version": "3.12.0"
  }
 },
 "nbformat": 4,
 "nbformat_minor": 2
}
